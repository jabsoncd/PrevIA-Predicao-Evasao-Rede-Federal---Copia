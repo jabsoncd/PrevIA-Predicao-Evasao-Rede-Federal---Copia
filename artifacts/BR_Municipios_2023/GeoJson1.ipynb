{
 "cells": [
  {
   "cell_type": "code",
   "execution_count": 1,
   "id": "4b8eaa5d",
   "metadata": {},
   "outputs": [],
   "source": [
    "import geopandas as gpd\n",
    "\n",
    "# Caminho para o seu shapefile\n",
    "shapefile_path = 'BR_UF_2024.shp'"
   ]
  },
  {
   "cell_type": "code",
   "execution_count": 7,
   "id": "fff66361",
   "metadata": {},
   "outputs": [
    {
     "ename": "FileNotFoundError",
     "evalue": "[WinError 3] O sistema não pode encontrar o caminho especificado: 'BR_Municipios_2023'",
     "output_type": "error",
     "traceback": [
      "\u001b[1;31m---------------------------------------------------------------------------\u001b[0m",
      "\u001b[1;31mFileNotFoundError\u001b[0m                         Traceback (most recent call last)",
      "Cell \u001b[1;32mIn[7], line 3\u001b[0m\n\u001b[0;32m      1\u001b[0m \u001b[38;5;28;01mimport\u001b[39;00m \u001b[38;5;21;01mos\u001b[39;00m\n\u001b[1;32m----> 3\u001b[0m \u001b[38;5;28mprint\u001b[39m(os\u001b[38;5;241m.\u001b[39mlistdir(\u001b[38;5;124m'\u001b[39m\u001b[38;5;124mBR_Municipios_2023\u001b[39m\u001b[38;5;124m'\u001b[39m))\n",
      "\u001b[1;31mFileNotFoundError\u001b[0m: [WinError 3] O sistema não pode encontrar o caminho especificado: 'BR_Municipios_2023'"
     ]
    }
   ],
   "source": [
    "import os\n",
    "\n",
    "print(os.listdir('BR_Municipios_2023'))"
   ]
  },
  {
   "cell_type": "code",
   "execution_count": 8,
   "id": "03ccfd44",
   "metadata": {},
   "outputs": [],
   "source": [
    "# Carregar o shapefile\n",
    "gdf = gpd.read_file(shapefile_path)\n",
    "\n",
    "# # Salvar como GeoJSON\n",
    "# gdf.to_file('/artifacts/BR_UF_2024.geojson', driver='GeoJSON')"
   ]
  },
  {
   "cell_type": "code",
   "execution_count": 9,
   "id": "0afee0a0",
   "metadata": {},
   "outputs": [],
   "source": [
    "# Salvar como GeoJSON\n",
    "gdf.to_file('BR_UF_2024.geojson', driver='GeoJSON')"
   ]
  }
 ],
 "metadata": {
  "kernelspec": {
   "display_name": "base",
   "language": "python",
   "name": "python3"
  },
  "language_info": {
   "codemirror_mode": {
    "name": "ipython",
    "version": 3
   },
   "file_extension": ".py",
   "mimetype": "text/x-python",
   "name": "python",
   "nbconvert_exporter": "python",
   "pygments_lexer": "ipython3",
   "version": "3.11.4"
  }
 },
 "nbformat": 4,
 "nbformat_minor": 5
}
